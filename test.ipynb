{
 "cells": [
  {
   "cell_type": "code",
   "execution_count": 1,
   "metadata": {},
   "outputs": [],
   "source": [
    "import pandas as pd\n",
    "import logging"
   ]
  },
  {
   "cell_type": "code",
   "execution_count": 3,
   "metadata": {},
   "outputs": [],
   "source": [
    "df = pd.read_excel('data/bilanco.xlsx')\n",
    "df.set_index('Kalem', inplace=True)"
   ]
  },
  {
   "cell_type": "code",
   "execution_count": 5,
   "metadata": {},
   "outputs": [],
   "source": [
    "def load_balance_sheet(filepath):\n",
    "    try:\n",
    "        # Veriyi yükle\n",
    "        data = pd.read_excel(filepath)\n",
    "        data.set_index(\"Kalem\", inplace=True)  # \"Kalem\" sütununu indeks olarak ayarla\n",
    "        return data\n",
    "    except Exception as e:\n",
    "        logging.error(f\"Error loading balance sheet: {e}\")\n",
    "        return None"
   ]
  },
  {
   "cell_type": "code",
   "execution_count": null,
   "metadata": {},
   "outputs": [
    {
     "name": "stderr",
     "output_type": "stream",
     "text": [
      "2024-12-22 23:23:40.969 Thread 'MainThread': missing ScriptRunContext! This warning can be ignored when running in bare mode.\n",
      "2024-12-22 23:23:40.970 Thread 'MainThread': missing ScriptRunContext! This warning can be ignored when running in bare mode.\n",
      "2024-12-22 23:23:40.970 Thread 'MainThread': missing ScriptRunContext! This warning can be ignored when running in bare mode.\n",
      "2024-12-22 23:23:40.971 Thread 'MainThread': missing ScriptRunContext! This warning can be ignored when running in bare mode.\n"
     ]
    },
    {
     "ename": "TypeError",
     "evalue": "unsupported operand type(s) for +: 'NoneType' and 'NoneType'",
     "output_type": "error",
     "traceback": [
      "\u001b[0;31m---------------------------------------------------------------------------\u001b[0m",
      "\u001b[0;31mTypeError\u001b[0m                                 Traceback (most recent call last)",
      "Cell \u001b[0;32mIn[7], line 59\u001b[0m\n\u001b[1;32m     56\u001b[0m             col3\u001b[38;5;241m.\u001b[39mmetric(\u001b[38;5;124m\"\u001b[39m\u001b[38;5;124mToplam Özkaynaklar\u001b[39m\u001b[38;5;124m\"\u001b[39m, \u001b[38;5;124mf\u001b[39m\u001b[38;5;124m\"\u001b[39m\u001b[38;5;132;01m{\u001b[39;00mtoplam_ozkaynaklar\u001b[38;5;241m.\u001b[39msum()\u001b[38;5;132;01m:\u001b[39;00m\u001b[38;5;124m,.2f\u001b[39m\u001b[38;5;132;01m}\u001b[39;00m\u001b[38;5;124m TRY\u001b[39m\u001b[38;5;124m\"\u001b[39m)\n\u001b[1;32m     58\u001b[0m \u001b[38;5;66;03m# Test etmek için\u001b[39;00m\n\u001b[0;32m---> 59\u001b[0m toplam_varliklar \u001b[38;5;241m=\u001b[39m \u001b[43mget_total_by_category\u001b[49m\u001b[43m(\u001b[49m\u001b[43mdf\u001b[49m\u001b[43m,\u001b[49m\u001b[43m \u001b[49m\u001b[38;5;124;43m\"\u001b[39;49m\u001b[38;5;124;43mToplam Dönen Varlıklar\u001b[39;49m\u001b[38;5;124;43m\"\u001b[39;49m\u001b[43m)\u001b[49m\u001b[43m \u001b[49m\u001b[38;5;241;43m+\u001b[39;49m\u001b[43m \u001b[49m\u001b[43mget_total_by_category\u001b[49m\u001b[43m(\u001b[49m\u001b[43mdf\u001b[49m\u001b[43m,\u001b[49m\u001b[43m \u001b[49m\u001b[38;5;124;43m\"\u001b[39;49m\u001b[38;5;124;43mToplam Duran Varlıklar\u001b[39;49m\u001b[38;5;124;43m\"\u001b[39;49m\u001b[43m)\u001b[49m\n\u001b[1;32m     60\u001b[0m \u001b[38;5;28mprint\u001b[39m(toplam_varliklar)\n",
      "\u001b[0;31mTypeError\u001b[0m: unsupported operand type(s) for +: 'NoneType' and 'NoneType'"
     ]
    }
   ],
   "source": [
    "import pandas as pd\n",
    "import logging\n",
    "import streamlit as st\n",
    "\n",
    "import matplotlib.pyplot as plt\n",
    "\n",
    "# Veriyi yükle\n",
    "df = pd.read_excel('data/bilanco.xlsx')\n",
    "df.set_index('Kalem', inplace=True)\n",
    "\n",
    "def get_total_by_category(data, category_name):\n",
    "    try:\n",
    "        # Belirtilen kategorinin toplam satırını al\n",
    "        total_row = data.loc[category_name]\n",
    "        return total_row\n",
    "    except KeyError:\n",
    "        st.error(f\"Kategori bulunamadı: {category_name}\")\n",
    "        return None\n",
    "\n",
    "def plot_trend(total_data, title, ylabel):\n",
    "    plt.figure(figsize=(10, 6))\n",
    "    total_data.plot(marker='o', linestyle='-')\n",
    "    plt.title(title, fontsize=14)\n",
    "    plt.ylabel(ylabel, fontsize=12)\n",
    "    plt.xlabel(\"Dönem\", fontsize=12)\n",
    "    plt.xticks(rotation=45)\n",
    "    plt.grid()\n",
    "    st.pyplot(plt)\n",
    "\n",
    "def plot_pie(total_data, title):\n",
    "    plt.figure(figsize=(8, 6))\n",
    "    total_data.plot.pie(autopct=\"%1.1f%%\", startangle=90)\n",
    "    plt.title(title, fontsize=14)\n",
    "    st.pyplot(plt)\n",
    "\n",
    "def show():\n",
    "    st.title(\"📊 Balance Sheet Dashboard\")\n",
    "\n",
    "    # Excel dosyasını yükle\n",
    "    filepath = \"./data/bilanco.xlsx\"\n",
    "    data = load_balance_sheet(filepath)\n",
    "\n",
    "    if data is not None:\n",
    "        # Anahtar kategorilerden toplam verileri al\n",
    "        st.subheader(\"Toplamlar\")\n",
    "        toplam_varliklar = get_total_by_category(data, \"Toplam Dönen Varlıklar\") + \\\n",
    "                           get_total_by_category(data, \"Toplam Duran Varlıklar\")\n",
    "        toplam_yukumlulukler = get_total_by_category(data, \"Toplam Kısa Vadeli Yükümlülükler\") + \\\n",
    "                               get_total_by_category(data, \"Toplam Uzun Vadeli Yükümlülükler\")\n",
    "        toplam_ozkaynaklar = get_total_by_category(data, \"Toplam Özkaynaklar\")\n",
    "\n",
    "        if toplam_varliklar is not None and toplam_yukumlulukler is not None and toplam_ozkaynaklar is not None:\n",
    "            col1, col2, col3 = st.columns(3)\n",
    "            col1.metric(\"Toplam Varlıklar\", f\"{toplam_varliklar.sum():,.2f} TRY\")\n",
    "            col2.metric(\"Toplam Yükümlülükler\", f\"{toplam_yukumlulukler.sum():,.2f} TRY\")\n",
    "            col3.metric(\"Toplam Özkaynaklar\", f\"{toplam_ozkaynaklar.sum():,.2f} TRY\")\n",
    "\n",
    "# Test etmek için\n",
    "toplam_varliklar = get_total_by_category(df, \"Toplam Dönen Varlıklar\") + get_total_by_category(df, \"Toplam Duran Varlıklar\")\n",
    "print(toplam_varliklar)"
   ]
  }
 ],
 "metadata": {
  "kernelspec": {
   "display_name": "venv",
   "language": "python",
   "name": "python3"
  },
  "language_info": {
   "codemirror_mode": {
    "name": "ipython",
    "version": 3
   },
   "file_extension": ".py",
   "mimetype": "text/x-python",
   "name": "python",
   "nbconvert_exporter": "python",
   "pygments_lexer": "ipython3",
   "version": "3.12.3"
  }
 },
 "nbformat": 4,
 "nbformat_minor": 2
}
